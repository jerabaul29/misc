{
 "cells": [
  {
   "cell_type": "code",
   "execution_count": 1,
   "metadata": {},
   "outputs": [],
   "source": [
    "import netCDF4 as nc4\n",
    "\n",
    "import xarray as xr\n",
    "\n",
    "from icecream import ic\n",
    "ic.configureOutput(prefix=\"\", outputFunction=print)"
   ]
  },
  {
   "cell_type": "code",
   "execution_count": 2,
   "metadata": {},
   "outputs": [
    {
     "data": {
      "text/plain": [
       "'0.20.2'"
      ]
     },
     "execution_count": 2,
     "metadata": {},
     "output_type": "execute_result"
    }
   ],
   "source": [
    "xr.__version__"
   ]
  },
  {
   "cell_type": "code",
   "execution_count": 3,
   "metadata": {},
   "outputs": [
    {
     "name": "stdout",
     "output_type": "stream",
     "text": [
      "input_file: '~/Desktop/Current/all_netCDF_paper_release/2018_03_b.nc'\n"
     ]
    }
   ],
   "source": [
    "# I have a local copy of the file on my hard drive, but it is also available publicly at: https://thredds.met.no/thredds/catalog/metusers/jeanr/problem_file/catalog.html?dataset=metusers/jeanr/problem_file/2018_03_b.nc\n",
    "input_file = \"~/Desktop/Current/all_netCDF_paper_release/2018_03_b.nc\"\n",
    "_ = ic(input_file)"
   ]
  },
  {
   "cell_type": "code",
   "execution_count": 4,
   "metadata": {},
   "outputs": [
    {
     "name": "stdout",
     "output_type": "stream",
     "text": [
      "output_file: '/home/jrmet/Desktop/Current/all_netCDF_paper_release/2018_03_b_fixed.nc'\n"
     ]
    }
   ],
   "source": [
    "output_file = \"/home/jrmet/Desktop/Current/all_netCDF_paper_release/2018_03_b_fixed.nc\"\n",
    "_ = ic(output_file)"
   ]
  },
  {
   "cell_type": "code",
   "execution_count": 5,
   "metadata": {},
   "outputs": [],
   "source": [
    "xr_file = xr.open_dataset(input_file, decode_times=False)"
   ]
  },
  {
   "cell_type": "code",
   "execution_count": 6,
   "metadata": {},
   "outputs": [
    {
     "data": {
      "text/html": [
       "<div><svg style=\"position: absolute; width: 0; height: 0; overflow: hidden\">\n",
       "<defs>\n",
       "<symbol id=\"icon-database\" viewBox=\"0 0 32 32\">\n",
       "<path d=\"M16 0c-8.837 0-16 2.239-16 5v4c0 2.761 7.163 5 16 5s16-2.239 16-5v-4c0-2.761-7.163-5-16-5z\"></path>\n",
       "<path d=\"M16 17c-8.837 0-16-2.239-16-5v6c0 2.761 7.163 5 16 5s16-2.239 16-5v-6c0 2.761-7.163 5-16 5z\"></path>\n",
       "<path d=\"M16 26c-8.837 0-16-2.239-16-5v6c0 2.761 7.163 5 16 5s16-2.239 16-5v-6c0 2.761-7.163 5-16 5z\"></path>\n",
       "</symbol>\n",
       "<symbol id=\"icon-file-text2\" viewBox=\"0 0 32 32\">\n",
       "<path d=\"M28.681 7.159c-0.694-0.947-1.662-2.053-2.724-3.116s-2.169-2.030-3.116-2.724c-1.612-1.182-2.393-1.319-2.841-1.319h-15.5c-1.378 0-2.5 1.121-2.5 2.5v27c0 1.378 1.122 2.5 2.5 2.5h23c1.378 0 2.5-1.122 2.5-2.5v-19.5c0-0.448-0.137-1.23-1.319-2.841zM24.543 5.457c0.959 0.959 1.712 1.825 2.268 2.543h-4.811v-4.811c0.718 0.556 1.584 1.309 2.543 2.268zM28 29.5c0 0.271-0.229 0.5-0.5 0.5h-23c-0.271 0-0.5-0.229-0.5-0.5v-27c0-0.271 0.229-0.5 0.5-0.5 0 0 15.499-0 15.5 0v7c0 0.552 0.448 1 1 1h7v19.5z\"></path>\n",
       "<path d=\"M23 26h-14c-0.552 0-1-0.448-1-1s0.448-1 1-1h14c0.552 0 1 0.448 1 1s-0.448 1-1 1z\"></path>\n",
       "<path d=\"M23 22h-14c-0.552 0-1-0.448-1-1s0.448-1 1-1h14c0.552 0 1 0.448 1 1s-0.448 1-1 1z\"></path>\n",
       "<path d=\"M23 18h-14c-0.552 0-1-0.448-1-1s0.448-1 1-1h14c0.552 0 1 0.448 1 1s-0.448 1-1 1z\"></path>\n",
       "</symbol>\n",
       "</defs>\n",
       "</svg>\n",
       "<style>/* CSS stylesheet for displaying xarray objects in jupyterlab.\n",
       " *\n",
       " */\n",
       "\n",
       ":root {\n",
       "  --xr-font-color0: var(--jp-content-font-color0, rgba(0, 0, 0, 1));\n",
       "  --xr-font-color2: var(--jp-content-font-color2, rgba(0, 0, 0, 0.54));\n",
       "  --xr-font-color3: var(--jp-content-font-color3, rgba(0, 0, 0, 0.38));\n",
       "  --xr-border-color: var(--jp-border-color2, #e0e0e0);\n",
       "  --xr-disabled-color: var(--jp-layout-color3, #bdbdbd);\n",
       "  --xr-background-color: var(--jp-layout-color0, white);\n",
       "  --xr-background-color-row-even: var(--jp-layout-color1, white);\n",
       "  --xr-background-color-row-odd: var(--jp-layout-color2, #eeeeee);\n",
       "}\n",
       "\n",
       "html[theme=dark],\n",
       "body.vscode-dark {\n",
       "  --xr-font-color0: rgba(255, 255, 255, 1);\n",
       "  --xr-font-color2: rgba(255, 255, 255, 0.54);\n",
       "  --xr-font-color3: rgba(255, 255, 255, 0.38);\n",
       "  --xr-border-color: #1F1F1F;\n",
       "  --xr-disabled-color: #515151;\n",
       "  --xr-background-color: #111111;\n",
       "  --xr-background-color-row-even: #111111;\n",
       "  --xr-background-color-row-odd: #313131;\n",
       "}\n",
       "\n",
       ".xr-wrap {\n",
       "  display: block !important;\n",
       "  min-width: 300px;\n",
       "  max-width: 700px;\n",
       "}\n",
       "\n",
       ".xr-text-repr-fallback {\n",
       "  /* fallback to plain text repr when CSS is not injected (untrusted notebook) */\n",
       "  display: none;\n",
       "}\n",
       "\n",
       ".xr-header {\n",
       "  padding-top: 6px;\n",
       "  padding-bottom: 6px;\n",
       "  margin-bottom: 4px;\n",
       "  border-bottom: solid 1px var(--xr-border-color);\n",
       "}\n",
       "\n",
       ".xr-header > div,\n",
       ".xr-header > ul {\n",
       "  display: inline;\n",
       "  margin-top: 0;\n",
       "  margin-bottom: 0;\n",
       "}\n",
       "\n",
       ".xr-obj-type,\n",
       ".xr-array-name {\n",
       "  margin-left: 2px;\n",
       "  margin-right: 10px;\n",
       "}\n",
       "\n",
       ".xr-obj-type {\n",
       "  color: var(--xr-font-color2);\n",
       "}\n",
       "\n",
       ".xr-sections {\n",
       "  padding-left: 0 !important;\n",
       "  display: grid;\n",
       "  grid-template-columns: 150px auto auto 1fr 20px 20px;\n",
       "}\n",
       "\n",
       ".xr-section-item {\n",
       "  display: contents;\n",
       "}\n",
       "\n",
       ".xr-section-item input {\n",
       "  display: none;\n",
       "}\n",
       "\n",
       ".xr-section-item input + label {\n",
       "  color: var(--xr-disabled-color);\n",
       "}\n",
       "\n",
       ".xr-section-item input:enabled + label {\n",
       "  cursor: pointer;\n",
       "  color: var(--xr-font-color2);\n",
       "}\n",
       "\n",
       ".xr-section-item input:enabled + label:hover {\n",
       "  color: var(--xr-font-color0);\n",
       "}\n",
       "\n",
       ".xr-section-summary {\n",
       "  grid-column: 1;\n",
       "  color: var(--xr-font-color2);\n",
       "  font-weight: 500;\n",
       "}\n",
       "\n",
       ".xr-section-summary > span {\n",
       "  display: inline-block;\n",
       "  padding-left: 0.5em;\n",
       "}\n",
       "\n",
       ".xr-section-summary-in:disabled + label {\n",
       "  color: var(--xr-font-color2);\n",
       "}\n",
       "\n",
       ".xr-section-summary-in + label:before {\n",
       "  display: inline-block;\n",
       "  content: '►';\n",
       "  font-size: 11px;\n",
       "  width: 15px;\n",
       "  text-align: center;\n",
       "}\n",
       "\n",
       ".xr-section-summary-in:disabled + label:before {\n",
       "  color: var(--xr-disabled-color);\n",
       "}\n",
       "\n",
       ".xr-section-summary-in:checked + label:before {\n",
       "  content: '▼';\n",
       "}\n",
       "\n",
       ".xr-section-summary-in:checked + label > span {\n",
       "  display: none;\n",
       "}\n",
       "\n",
       ".xr-section-summary,\n",
       ".xr-section-inline-details {\n",
       "  padding-top: 4px;\n",
       "  padding-bottom: 4px;\n",
       "}\n",
       "\n",
       ".xr-section-inline-details {\n",
       "  grid-column: 2 / -1;\n",
       "}\n",
       "\n",
       ".xr-section-details {\n",
       "  display: none;\n",
       "  grid-column: 1 / -1;\n",
       "  margin-bottom: 5px;\n",
       "}\n",
       "\n",
       ".xr-section-summary-in:checked ~ .xr-section-details {\n",
       "  display: contents;\n",
       "}\n",
       "\n",
       ".xr-array-wrap {\n",
       "  grid-column: 1 / -1;\n",
       "  display: grid;\n",
       "  grid-template-columns: 20px auto;\n",
       "}\n",
       "\n",
       ".xr-array-wrap > label {\n",
       "  grid-column: 1;\n",
       "  vertical-align: top;\n",
       "}\n",
       "\n",
       ".xr-preview {\n",
       "  color: var(--xr-font-color3);\n",
       "}\n",
       "\n",
       ".xr-array-preview,\n",
       ".xr-array-data {\n",
       "  padding: 0 5px !important;\n",
       "  grid-column: 2;\n",
       "}\n",
       "\n",
       ".xr-array-data,\n",
       ".xr-array-in:checked ~ .xr-array-preview {\n",
       "  display: none;\n",
       "}\n",
       "\n",
       ".xr-array-in:checked ~ .xr-array-data,\n",
       ".xr-array-preview {\n",
       "  display: inline-block;\n",
       "}\n",
       "\n",
       ".xr-dim-list {\n",
       "  display: inline-block !important;\n",
       "  list-style: none;\n",
       "  padding: 0 !important;\n",
       "  margin: 0;\n",
       "}\n",
       "\n",
       ".xr-dim-list li {\n",
       "  display: inline-block;\n",
       "  padding: 0;\n",
       "  margin: 0;\n",
       "}\n",
       "\n",
       ".xr-dim-list:before {\n",
       "  content: '(';\n",
       "}\n",
       "\n",
       ".xr-dim-list:after {\n",
       "  content: ')';\n",
       "}\n",
       "\n",
       ".xr-dim-list li:not(:last-child):after {\n",
       "  content: ',';\n",
       "  padding-right: 5px;\n",
       "}\n",
       "\n",
       ".xr-has-index {\n",
       "  font-weight: bold;\n",
       "}\n",
       "\n",
       ".xr-var-list,\n",
       ".xr-var-item {\n",
       "  display: contents;\n",
       "}\n",
       "\n",
       ".xr-var-item > div,\n",
       ".xr-var-item label,\n",
       ".xr-var-item > .xr-var-name span {\n",
       "  background-color: var(--xr-background-color-row-even);\n",
       "  margin-bottom: 0;\n",
       "}\n",
       "\n",
       ".xr-var-item > .xr-var-name:hover span {\n",
       "  padding-right: 5px;\n",
       "}\n",
       "\n",
       ".xr-var-list > li:nth-child(odd) > div,\n",
       ".xr-var-list > li:nth-child(odd) > label,\n",
       ".xr-var-list > li:nth-child(odd) > .xr-var-name span {\n",
       "  background-color: var(--xr-background-color-row-odd);\n",
       "}\n",
       "\n",
       ".xr-var-name {\n",
       "  grid-column: 1;\n",
       "}\n",
       "\n",
       ".xr-var-dims {\n",
       "  grid-column: 2;\n",
       "}\n",
       "\n",
       ".xr-var-dtype {\n",
       "  grid-column: 3;\n",
       "  text-align: right;\n",
       "  color: var(--xr-font-color2);\n",
       "}\n",
       "\n",
       ".xr-var-preview {\n",
       "  grid-column: 4;\n",
       "}\n",
       "\n",
       ".xr-var-name,\n",
       ".xr-var-dims,\n",
       ".xr-var-dtype,\n",
       ".xr-preview,\n",
       ".xr-attrs dt {\n",
       "  white-space: nowrap;\n",
       "  overflow: hidden;\n",
       "  text-overflow: ellipsis;\n",
       "  padding-right: 10px;\n",
       "}\n",
       "\n",
       ".xr-var-name:hover,\n",
       ".xr-var-dims:hover,\n",
       ".xr-var-dtype:hover,\n",
       ".xr-attrs dt:hover {\n",
       "  overflow: visible;\n",
       "  width: auto;\n",
       "  z-index: 1;\n",
       "}\n",
       "\n",
       ".xr-var-attrs,\n",
       ".xr-var-data {\n",
       "  display: none;\n",
       "  background-color: var(--xr-background-color) !important;\n",
       "  padding-bottom: 5px !important;\n",
       "}\n",
       "\n",
       ".xr-var-attrs-in:checked ~ .xr-var-attrs,\n",
       ".xr-var-data-in:checked ~ .xr-var-data {\n",
       "  display: block;\n",
       "}\n",
       "\n",
       ".xr-var-data > table {\n",
       "  float: right;\n",
       "}\n",
       "\n",
       ".xr-var-name span,\n",
       ".xr-var-data,\n",
       ".xr-attrs {\n",
       "  padding-left: 25px !important;\n",
       "}\n",
       "\n",
       ".xr-attrs,\n",
       ".xr-var-attrs,\n",
       ".xr-var-data {\n",
       "  grid-column: 1 / -1;\n",
       "}\n",
       "\n",
       "dl.xr-attrs {\n",
       "  padding: 0;\n",
       "  margin: 0;\n",
       "  display: grid;\n",
       "  grid-template-columns: 125px auto;\n",
       "}\n",
       "\n",
       ".xr-attrs dt,\n",
       ".xr-attrs dd {\n",
       "  padding: 0;\n",
       "  margin: 0;\n",
       "  float: left;\n",
       "  padding-right: 10px;\n",
       "  width: auto;\n",
       "}\n",
       "\n",
       ".xr-attrs dt {\n",
       "  font-weight: normal;\n",
       "  grid-column: 1;\n",
       "}\n",
       "\n",
       ".xr-attrs dt:hover span {\n",
       "  display: inline-block;\n",
       "  background: var(--xr-background-color);\n",
       "  padding-right: 10px;\n",
       "}\n",
       "\n",
       ".xr-attrs dd {\n",
       "  grid-column: 2;\n",
       "  white-space: pre-wrap;\n",
       "  word-break: break-all;\n",
       "}\n",
       "\n",
       ".xr-icon-database,\n",
       ".xr-icon-file-text2 {\n",
       "  display: inline-block;\n",
       "  vertical-align: middle;\n",
       "  width: 1em;\n",
       "  height: 1.5em !important;\n",
       "  stroke-width: 0;\n",
       "  stroke: currentColor;\n",
       "  fill: currentColor;\n",
       "}\n",
       "</style><pre class='xr-text-repr-fallback'>&lt;xarray.Dataset&gt;\n",
       "Dimensions:      (iwr_id: 2, time: 3235893)\n",
       "Dimensions without coordinates: iwr_id, time\n",
       "Data variables: (12/13)\n",
       "    id           (iwr_id) |S3 b&#x27;&#x27; b&#x27;&#x27;\n",
       "    timeIMU      (iwr_id, time) float64 ...\n",
       "    timeGPS      (iwr_id, time) float64 ...\n",
       "    yaw          (iwr_id, time) float32 ...\n",
       "    pitch        (iwr_id, time) float32 ...\n",
       "    roll         (iwr_id, time) float32 ...\n",
       "    ...           ...\n",
       "    pressure     (iwr_id, time) float32 ...\n",
       "    accN         (iwr_id, time) float32 ...\n",
       "    accE         (iwr_id, time) float32 ...\n",
       "    accD         (iwr_id, time) float32 ...\n",
       "    latitude     (iwr_id, time) float32 ...\n",
       "    longitude    (iwr_id, time) float32 ...\n",
       "Attributes: (12/25)\n",
       "    title:                Sea ice drift and wave measurements from the ISOPS ...\n",
       "    subtitle:             Ice-Wave-Rider (IWR) 33\n",
       "    summary:              The sea ice drifter trajectories and wave measureme...\n",
       "    keywords:             GCMDSK:Earth Science &gt; Cryosphere &gt; Sea Ice &gt; Sea I...\n",
       "    keywords_vocabulary:  GCMDSK:GCMD Science Keywords:https://gcmd.earthdata...\n",
       "    Conventions:          ACDD-1.3\n",
       "    ...                   ...\n",
       "    publisher_name:       College of Fisheries and Ocean Sciences, University...\n",
       "    publisher_url:        uaf.edu/cfos/\n",
       "    publisher_email:      info@cfos.uaf.edu\n",
       "    iso_topic_category:   oceans\n",
       "    activity_type:        In Situ Ice-based station\n",
       "    operational_status:   Scientific</pre><div class='xr-wrap' style='display:none'><div class='xr-header'><div class='xr-obj-type'>xarray.Dataset</div></div><ul class='xr-sections'><li class='xr-section-item'><input id='section-3ec9cf06-fcb7-487e-9b6e-58604fe48b1e' class='xr-section-summary-in' type='checkbox' disabled ><label for='section-3ec9cf06-fcb7-487e-9b6e-58604fe48b1e' class='xr-section-summary'  title='Expand/collapse section'>Dimensions:</label><div class='xr-section-inline-details'><ul class='xr-dim-list'><li><span>iwr_id</span>: 2</li><li><span>time</span>: 3235893</li></ul></div><div class='xr-section-details'></div></li><li class='xr-section-item'><input id='section-c84b0878-ec63-47cc-ad4c-96dfc6099f28' class='xr-section-summary-in' type='checkbox' disabled ><label for='section-c84b0878-ec63-47cc-ad4c-96dfc6099f28' class='xr-section-summary'  title='Expand/collapse section'>Coordinates: <span>(0)</span></label><div class='xr-section-inline-details'></div><div class='xr-section-details'><ul class='xr-var-list'></ul></div></li><li class='xr-section-item'><input id='section-b2bf4c04-db6e-4f59-b9ab-a4860fd593ff' class='xr-section-summary-in' type='checkbox'  checked><label for='section-b2bf4c04-db6e-4f59-b9ab-a4860fd593ff' class='xr-section-summary' >Data variables: <span>(13)</span></label><div class='xr-section-inline-details'></div><div class='xr-section-details'><ul class='xr-var-list'><li class='xr-var-item'><div class='xr-var-name'><span>id</span></div><div class='xr-var-dims'>(iwr_id)</div><div class='xr-var-dtype'>|S3</div><div class='xr-var-preview xr-preview'>...</div><input id='attrs-28b0cb5e-6511-44d0-8cec-da07a241b86b' class='xr-var-attrs-in' type='checkbox' ><label for='attrs-28b0cb5e-6511-44d0-8cec-da07a241b86b' title='Show/Hide attributes'><svg class='icon xr-icon-file-text2'><use xlink:href='#icon-file-text2'></use></svg></label><input id='data-25aa7e78-035a-4a01-9913-f0ff6e39549d' class='xr-var-data-in' type='checkbox'><label for='data-25aa7e78-035a-4a01-9913-f0ff6e39549d' title='Show/Hide data repr'><svg class='icon xr-icon-database'><use xlink:href='#icon-database'></use></svg></label><div class='xr-var-attrs'><dl class='xr-attrs'><dt><span>standard_name :</span></dt><dd>platform_id</dd><dt><span>long_name :</span></dt><dd>platform name</dd></dl></div><div class='xr-var-data'><pre>array([b&#x27;&#x27;, b&#x27;&#x27;], dtype=&#x27;|S3&#x27;)</pre></div></li><li class='xr-var-item'><div class='xr-var-name'><span>timeIMU</span></div><div class='xr-var-dims'>(iwr_id, time)</div><div class='xr-var-dtype'>float64</div><div class='xr-var-preview xr-preview'>...</div><input id='attrs-4fe5b530-262f-43d6-949b-2e5d975f0789' class='xr-var-attrs-in' type='checkbox' ><label for='attrs-4fe5b530-262f-43d6-949b-2e5d975f0789' title='Show/Hide attributes'><svg class='icon xr-icon-file-text2'><use xlink:href='#icon-file-text2'></use></svg></label><input id='data-52ecedeb-71e4-4e3b-96e4-82ccc664e9dc' class='xr-var-data-in' type='checkbox'><label for='data-52ecedeb-71e4-4e3b-96e4-82ccc664e9dc' title='Show/Hide data repr'><svg class='icon xr-icon-database'><use xlink:href='#icon-database'></use></svg></label><div class='xr-var-attrs'><dl class='xr-attrs'><dt><span>units :</span></dt><dd>seconds since 1970-01-01 00:00:00 +0000</dd><dt><span>standard_name :</span></dt><dd>time</dd><dt><span>long_name :</span></dt><dd>Inertial Motion Unit (IMU) time stamp</dd></dl></div><div class='xr-var-data'><pre>[6471786 values with dtype=float64]</pre></div></li><li class='xr-var-item'><div class='xr-var-name'><span>timeGPS</span></div><div class='xr-var-dims'>(iwr_id, time)</div><div class='xr-var-dtype'>float64</div><div class='xr-var-preview xr-preview'>...</div><input id='attrs-8b6ff3df-0a0e-4c16-8947-64f595047441' class='xr-var-attrs-in' type='checkbox' ><label for='attrs-8b6ff3df-0a0e-4c16-8947-64f595047441' title='Show/Hide attributes'><svg class='icon xr-icon-file-text2'><use xlink:href='#icon-file-text2'></use></svg></label><input id='data-e7c5aaff-1198-4022-b4bd-4fa5dfa3ece0' class='xr-var-data-in' type='checkbox'><label for='data-e7c5aaff-1198-4022-b4bd-4fa5dfa3ece0' title='Show/Hide data repr'><svg class='icon xr-icon-database'><use xlink:href='#icon-database'></use></svg></label><div class='xr-var-attrs'><dl class='xr-attrs'><dt><span>units :</span></dt><dd>seconds since 1970-01-01 00:00:00 +0000</dd><dt><span>long_name :</span></dt><dd>GPS time stamp</dd><dt><span>standard_name :</span></dt><dd>time</dd></dl></div><div class='xr-var-data'><pre>[6471786 values with dtype=float64]</pre></div></li><li class='xr-var-item'><div class='xr-var-name'><span>yaw</span></div><div class='xr-var-dims'>(iwr_id, time)</div><div class='xr-var-dtype'>float32</div><div class='xr-var-preview xr-preview'>...</div><input id='attrs-56b95f37-4999-46a8-b09a-cb87456f538f' class='xr-var-attrs-in' type='checkbox' ><label for='attrs-56b95f37-4999-46a8-b09a-cb87456f538f' title='Show/Hide attributes'><svg class='icon xr-icon-file-text2'><use xlink:href='#icon-file-text2'></use></svg></label><input id='data-d6efeda7-2565-49c0-87e2-d20719b60572' class='xr-var-data-in' type='checkbox'><label for='data-d6efeda7-2565-49c0-87e2-d20719b60572' title='Show/Hide data repr'><svg class='icon xr-icon-database'><use xlink:href='#icon-database'></use></svg></label><div class='xr-var-attrs'><dl class='xr-attrs'><dt><span>units :</span></dt><dd>rad</dd><dt><span>long_name :</span></dt><dd>yaw in the North East Down frame</dd></dl></div><div class='xr-var-data'><pre>[6471786 values with dtype=float32]</pre></div></li><li class='xr-var-item'><div class='xr-var-name'><span>pitch</span></div><div class='xr-var-dims'>(iwr_id, time)</div><div class='xr-var-dtype'>float32</div><div class='xr-var-preview xr-preview'>...</div><input id='attrs-b6d3d23c-a29f-43e3-bba7-23dd422fa7f5' class='xr-var-attrs-in' type='checkbox' ><label for='attrs-b6d3d23c-a29f-43e3-bba7-23dd422fa7f5' title='Show/Hide attributes'><svg class='icon xr-icon-file-text2'><use xlink:href='#icon-file-text2'></use></svg></label><input id='data-02694dad-0ba7-4d99-a181-49813ceba3e1' class='xr-var-data-in' type='checkbox'><label for='data-02694dad-0ba7-4d99-a181-49813ceba3e1' title='Show/Hide data repr'><svg class='icon xr-icon-database'><use xlink:href='#icon-database'></use></svg></label><div class='xr-var-attrs'><dl class='xr-attrs'><dt><span>units :</span></dt><dd>rad</dd><dt><span>long_name :</span></dt><dd>pitch in the  North East Down frame</dd></dl></div><div class='xr-var-data'><pre>[6471786 values with dtype=float32]</pre></div></li><li class='xr-var-item'><div class='xr-var-name'><span>roll</span></div><div class='xr-var-dims'>(iwr_id, time)</div><div class='xr-var-dtype'>float32</div><div class='xr-var-preview xr-preview'>...</div><input id='attrs-cadfc2c2-ed51-494c-ba50-eba11ce85f2a' class='xr-var-attrs-in' type='checkbox' ><label for='attrs-cadfc2c2-ed51-494c-ba50-eba11ce85f2a' title='Show/Hide attributes'><svg class='icon xr-icon-file-text2'><use xlink:href='#icon-file-text2'></use></svg></label><input id='data-3b340aa9-354c-4086-9476-5a6a76fc16c8' class='xr-var-data-in' type='checkbox'><label for='data-3b340aa9-354c-4086-9476-5a6a76fc16c8' title='Show/Hide data repr'><svg class='icon xr-icon-database'><use xlink:href='#icon-database'></use></svg></label><div class='xr-var-attrs'><dl class='xr-attrs'><dt><span>units :</span></dt><dd>rad</dd><dt><span>long_name :</span></dt><dd>roll in the local North East Down frame</dd></dl></div><div class='xr-var-data'><pre>[6471786 values with dtype=float32]</pre></div></li><li class='xr-var-item'><div class='xr-var-name'><span>temperature</span></div><div class='xr-var-dims'>(iwr_id, time)</div><div class='xr-var-dtype'>float32</div><div class='xr-var-preview xr-preview'>...</div><input id='attrs-f0e9dc68-fdcf-41d2-bc19-71123fc262aa' class='xr-var-attrs-in' type='checkbox' ><label for='attrs-f0e9dc68-fdcf-41d2-bc19-71123fc262aa' title='Show/Hide attributes'><svg class='icon xr-icon-file-text2'><use xlink:href='#icon-file-text2'></use></svg></label><input id='data-9aa478c6-d898-4a2a-aa54-9adb9e8d367e' class='xr-var-data-in' type='checkbox'><label for='data-9aa478c6-d898-4a2a-aa54-9adb9e8d367e' title='Show/Hide data repr'><svg class='icon xr-icon-database'><use xlink:href='#icon-database'></use></svg></label><div class='xr-var-attrs'><dl class='xr-attrs'><dt><span>units :</span></dt><dd>deg_C</dd><dt><span>long_name :</span></dt><dd>temperature</dd></dl></div><div class='xr-var-data'><pre>[6471786 values with dtype=float32]</pre></div></li><li class='xr-var-item'><div class='xr-var-name'><span>pressure</span></div><div class='xr-var-dims'>(iwr_id, time)</div><div class='xr-var-dtype'>float32</div><div class='xr-var-preview xr-preview'>...</div><input id='attrs-271c4742-74e0-4a9a-9159-ed35ee4e4a8b' class='xr-var-attrs-in' type='checkbox' ><label for='attrs-271c4742-74e0-4a9a-9159-ed35ee4e4a8b' title='Show/Hide attributes'><svg class='icon xr-icon-file-text2'><use xlink:href='#icon-file-text2'></use></svg></label><input id='data-f622a7f9-4a36-44cf-a078-f4ecc39735e6' class='xr-var-data-in' type='checkbox'><label for='data-f622a7f9-4a36-44cf-a078-f4ecc39735e6' title='Show/Hide data repr'><svg class='icon xr-icon-database'><use xlink:href='#icon-database'></use></svg></label><div class='xr-var-attrs'><dl class='xr-attrs'><dt><span>units :</span></dt><dd>kPa</dd><dt><span>long_name :</span></dt><dd>pressure</dd></dl></div><div class='xr-var-data'><pre>[6471786 values with dtype=float32]</pre></div></li><li class='xr-var-item'><div class='xr-var-name'><span>accN</span></div><div class='xr-var-dims'>(iwr_id, time)</div><div class='xr-var-dtype'>float32</div><div class='xr-var-preview xr-preview'>...</div><input id='attrs-7ff09669-ed8f-44de-ab42-2dafeaf2d9c3' class='xr-var-attrs-in' type='checkbox' ><label for='attrs-7ff09669-ed8f-44de-ab42-2dafeaf2d9c3' title='Show/Hide attributes'><svg class='icon xr-icon-file-text2'><use xlink:href='#icon-file-text2'></use></svg></label><input id='data-14aaaf9c-0111-492d-837e-c446b6a7192d' class='xr-var-data-in' type='checkbox'><label for='data-14aaaf9c-0111-492d-837e-c446b6a7192d' title='Show/Hide data repr'><svg class='icon xr-icon-database'><use xlink:href='#icon-database'></use></svg></label><div class='xr-var-attrs'><dl class='xr-attrs'><dt><span>units :</span></dt><dd>m/s^2</dd><dt><span>long_name :</span></dt><dd>acceleration in the North East Down frame</dd></dl></div><div class='xr-var-data'><pre>[6471786 values with dtype=float32]</pre></div></li><li class='xr-var-item'><div class='xr-var-name'><span>accE</span></div><div class='xr-var-dims'>(iwr_id, time)</div><div class='xr-var-dtype'>float32</div><div class='xr-var-preview xr-preview'>...</div><input id='attrs-741517f5-712e-4b26-9ee5-19195c221dab' class='xr-var-attrs-in' type='checkbox' ><label for='attrs-741517f5-712e-4b26-9ee5-19195c221dab' title='Show/Hide attributes'><svg class='icon xr-icon-file-text2'><use xlink:href='#icon-file-text2'></use></svg></label><input id='data-3c45df77-8fe1-49c4-9f9a-2d37288614a0' class='xr-var-data-in' type='checkbox'><label for='data-3c45df77-8fe1-49c4-9f9a-2d37288614a0' title='Show/Hide data repr'><svg class='icon xr-icon-database'><use xlink:href='#icon-database'></use></svg></label><div class='xr-var-attrs'><dl class='xr-attrs'><dt><span>units :</span></dt><dd>m/s^2</dd><dt><span>long_name :</span></dt><dd>acceleration in the North East Down frame</dd></dl></div><div class='xr-var-data'><pre>[6471786 values with dtype=float32]</pre></div></li><li class='xr-var-item'><div class='xr-var-name'><span>accD</span></div><div class='xr-var-dims'>(iwr_id, time)</div><div class='xr-var-dtype'>float32</div><div class='xr-var-preview xr-preview'>...</div><input id='attrs-1e50564b-7d7b-407a-ae6c-dd72be8e924a' class='xr-var-attrs-in' type='checkbox' ><label for='attrs-1e50564b-7d7b-407a-ae6c-dd72be8e924a' title='Show/Hide attributes'><svg class='icon xr-icon-file-text2'><use xlink:href='#icon-file-text2'></use></svg></label><input id='data-78069530-daa1-4b02-9e54-e090599475d2' class='xr-var-data-in' type='checkbox'><label for='data-78069530-daa1-4b02-9e54-e090599475d2' title='Show/Hide data repr'><svg class='icon xr-icon-database'><use xlink:href='#icon-database'></use></svg></label><div class='xr-var-attrs'><dl class='xr-attrs'><dt><span>units :</span></dt><dd>m/s^2</dd><dt><span>long_name :</span></dt><dd>acceleration in the North East Down frame (gravity included)</dd></dl></div><div class='xr-var-data'><pre>[6471786 values with dtype=float32]</pre></div></li><li class='xr-var-item'><div class='xr-var-name'><span>latitude</span></div><div class='xr-var-dims'>(iwr_id, time)</div><div class='xr-var-dtype'>float32</div><div class='xr-var-preview xr-preview'>...</div><input id='attrs-7a4cccf5-e8cf-4c39-99f1-a26a97063e46' class='xr-var-attrs-in' type='checkbox' ><label for='attrs-7a4cccf5-e8cf-4c39-99f1-a26a97063e46' title='Show/Hide attributes'><svg class='icon xr-icon-file-text2'><use xlink:href='#icon-file-text2'></use></svg></label><input id='data-d03d6a2f-ae8a-4917-9d6c-e1c3e1e99670' class='xr-var-data-in' type='checkbox'><label for='data-d03d6a2f-ae8a-4917-9d6c-e1c3e1e99670' title='Show/Hide data repr'><svg class='icon xr-icon-database'><use xlink:href='#icon-database'></use></svg></label><div class='xr-var-attrs'><dl class='xr-attrs'><dt><span>units :</span></dt><dd>degrees_north</dd><dt><span>long_name :</span></dt><dd>latitude</dd></dl></div><div class='xr-var-data'><pre>[6471786 values with dtype=float32]</pre></div></li><li class='xr-var-item'><div class='xr-var-name'><span>longitude</span></div><div class='xr-var-dims'>(iwr_id, time)</div><div class='xr-var-dtype'>float32</div><div class='xr-var-preview xr-preview'>...</div><input id='attrs-10662816-9997-4ff8-b173-f39f336dda00' class='xr-var-attrs-in' type='checkbox' ><label for='attrs-10662816-9997-4ff8-b173-f39f336dda00' title='Show/Hide attributes'><svg class='icon xr-icon-file-text2'><use xlink:href='#icon-file-text2'></use></svg></label><input id='data-b61aab88-91bf-45b5-9b44-5b2d7c12bd83' class='xr-var-data-in' type='checkbox'><label for='data-b61aab88-91bf-45b5-9b44-5b2d7c12bd83' title='Show/Hide data repr'><svg class='icon xr-icon-database'><use xlink:href='#icon-database'></use></svg></label><div class='xr-var-attrs'><dl class='xr-attrs'><dt><span>units :</span></dt><dd>degrees_east</dd><dt><span>long_name :</span></dt><dd>longitude</dd></dl></div><div class='xr-var-data'><pre>[6471786 values with dtype=float32]</pre></div></li></ul></div></li><li class='xr-section-item'><input id='section-46c0643b-7bf2-4d73-9bb8-7ce3f106539f' class='xr-section-summary-in' type='checkbox'  ><label for='section-46c0643b-7bf2-4d73-9bb8-7ce3f106539f' class='xr-section-summary' >Attributes: <span>(25)</span></label><div class='xr-section-inline-details'></div><div class='xr-section-details'><dl class='xr-attrs'><dt><span>title :</span></dt><dd>Sea ice drift and wave measurements from the ISOPS deployment near Utqiagvik during the 2021 field season</dd><dt><span>subtitle :</span></dt><dd>Ice-Wave-Rider (IWR) 33</dd><dt><span>summary :</span></dt><dd>The sea ice drifter trajectories and wave measurements from a deployment during ICEX2018 (Integrated System for Operations in Polar Seas). The trajectories and wave measurements were obtained by instruments deployed on the pack ice in the Beaufort Sea.The data are created, stored, and quality checked using the code available at: https://github.com/xxx . More data may be available at this address than in this nc file. Please discuss any question / issue about the present data inside the issue tracker of the github repository.</dd><dt><span>keywords :</span></dt><dd>GCMDSK:Earth Science &gt; Cryosphere &gt; Sea Ice &gt; Sea Ice Motion, GCMDSK:Earth Science &gt; Oceans &gt; Sea Ice &gt; Sea Ice Motion, GCMDSK:Earth Science &gt; Atmosphere &gt; Atmospheric Temperature &gt; Surface Temperature &gt; Air Temperature, GCMDSK:Earth Science &gt; Atmosphere &gt; Atmospheric Pressure &gt; Atmospheric Pressure Measurements, GCMDLOC:Geographic Region &gt; Northern Hemisphere, GCMDLOC:Geographic Region &gt; Alaska, GCMDLOC:Geographic Region &gt; Beaufort Sea, </dd><dt><span>keywords_vocabulary :</span></dt><dd>GCMDSK:GCMD Science Keywords:https://gcmd.earthdata.nasa.gov/kms/concepts/concept_scheme/sciencekeywords, GCMDLOC:GCMD Locations:https://gcmd.earthdata.nasa.gov/kms/concepts/concept_scheme/locations, </dd><dt><span>Conventions :</span></dt><dd>ACDD-1.3</dd><dt><span>history :</span></dt><dd>1.0: creation</dd><dt><span>source :</span></dt><dd>field measurements</dd><dt><span>date_created :</span></dt><dd>2022-02-28T12:00:00:Z</dd><dt><span>creator_type :</span></dt><dd>person</dd><dt><span>creator_institution :</span></dt><dd>College of Fisheries and Ocean Sciences, University of Alaska Fairbanks (CFOS UAF)</dd><dt><span>creator_name :</span></dt><dd>Dmitry Brazhnikov</dd><dt><span>creator_email :</span></dt><dd>dbrazhnikov@alaska.edu</dd><dt><span>institution :</span></dt><dd>College of Fisheries and Ocean Sciences University of Alaska Fairbanks (CFOS UAF)</dd><dt><span>project :</span></dt><dd>ISOPS, Integrated System for Operations in Polar Seas</dd><dt><span>instrument :</span></dt><dd>Ice Wave Rider (IWR), IMU, waves in ice</dd><dt><span>references :</span></dt><dd>https://www.thejot.net/article-preview/?show_article_preview=1190</dd><dt><span>license :</span></dt><dd>CC-BY-4.0</dd><dt><span>publisher_type :</span></dt><dd>institution</dd><dt><span>publisher_name :</span></dt><dd>College of Fisheries and Ocean Sciences, University of Alaska Fairbanks</dd><dt><span>publisher_url :</span></dt><dd>uaf.edu/cfos/</dd><dt><span>publisher_email :</span></dt><dd>info@cfos.uaf.edu</dd><dt><span>iso_topic_category :</span></dt><dd>oceans</dd><dt><span>activity_type :</span></dt><dd>In Situ Ice-based station</dd><dt><span>operational_status :</span></dt><dd>Scientific</dd></dl></div></li></ul></div></div>"
      ],
      "text/plain": [
       "<xarray.Dataset>\n",
       "Dimensions:      (iwr_id: 2, time: 3235893)\n",
       "Dimensions without coordinates: iwr_id, time\n",
       "Data variables: (12/13)\n",
       "    id           (iwr_id) |S3 ...\n",
       "    timeIMU      (iwr_id, time) float64 ...\n",
       "    timeGPS      (iwr_id, time) float64 ...\n",
       "    yaw          (iwr_id, time) float32 ...\n",
       "    pitch        (iwr_id, time) float32 ...\n",
       "    roll         (iwr_id, time) float32 ...\n",
       "    ...           ...\n",
       "    pressure     (iwr_id, time) float32 ...\n",
       "    accN         (iwr_id, time) float32 ...\n",
       "    accE         (iwr_id, time) float32 ...\n",
       "    accD         (iwr_id, time) float32 ...\n",
       "    latitude     (iwr_id, time) float32 ...\n",
       "    longitude    (iwr_id, time) float32 ...\n",
       "Attributes: (12/25)\n",
       "    title:                Sea ice drift and wave measurements from the ISOPS ...\n",
       "    subtitle:             Ice-Wave-Rider (IWR) 33\n",
       "    summary:              The sea ice drifter trajectories and wave measureme...\n",
       "    keywords:             GCMDSK:Earth Science > Cryosphere > Sea Ice > Sea I...\n",
       "    keywords_vocabulary:  GCMDSK:GCMD Science Keywords:https://gcmd.earthdata...\n",
       "    Conventions:          ACDD-1.3\n",
       "    ...                   ...\n",
       "    publisher_name:       College of Fisheries and Ocean Sciences, University...\n",
       "    publisher_url:        uaf.edu/cfos/\n",
       "    publisher_email:      info@cfos.uaf.edu\n",
       "    iso_topic_category:   oceans\n",
       "    activity_type:        In Situ Ice-based station\n",
       "    operational_status:   Scientific"
      ]
     },
     "execution_count": 6,
     "metadata": {},
     "output_type": "execute_result"
    }
   ],
   "source": [
    "xr_file"
   ]
  },
  {
   "cell_type": "code",
   "execution_count": 7,
   "metadata": {},
   "outputs": [],
   "source": [
    "# for some reason, this does not work: exhaust RAM and crash\n",
    "# xr_file.to_netcdf(output_file)"
   ]
  },
  {
   "cell_type": "code",
   "execution_count": 8,
   "metadata": {},
   "outputs": [],
   "source": [
    "# for some reason, this does not work; exhaust RAM and crash\n",
    "# xr_file[\"accD\"][0, :].data"
   ]
  },
  {
   "cell_type": "code",
   "execution_count": 9,
   "metadata": {},
   "outputs": [],
   "source": [
    "# for some reason, opening in 3 slices works just fine"
   ]
  },
  {
   "cell_type": "code",
   "execution_count": 10,
   "metadata": {},
   "outputs": [
    {
     "data": {
      "text/plain": [
       "array([-9.602328, -9.585254, -9.591938, ..., -9.558292, -9.561653,\n",
       "       -9.599419], dtype=float32)"
      ]
     },
     "execution_count": 10,
     "metadata": {},
     "output_type": "execute_result"
    }
   ],
   "source": [
    "xr_file[\"accD\"][0, 1000000:2000000].data"
   ]
  },
  {
   "cell_type": "code",
   "execution_count": 11,
   "metadata": {},
   "outputs": [
    {
     "data": {
      "text/plain": [
       "array([-9.54812 , -9.58934 , -9.5669  , ..., -9.544533, -9.556006,\n",
       "       -9.57915 ], dtype=float32)"
      ]
     },
     "execution_count": 11,
     "metadata": {},
     "output_type": "execute_result"
    }
   ],
   "source": [
    "xr_file[\"accD\"][0, 2000000:3000000].data"
   ]
  },
  {
   "cell_type": "code",
   "execution_count": 12,
   "metadata": {},
   "outputs": [
    {
     "data": {
      "text/plain": [
       "array([-9.538307, -9.534163, -9.551188, ..., -9.543669, -9.519094,\n",
       "       -9.509479], dtype=float32)"
      ]
     },
     "execution_count": 12,
     "metadata": {},
     "output_type": "execute_result"
    }
   ],
   "source": [
    "xr_file[\"accD\"][0, 3000000:3235893].data"
   ]
  },
  {
   "cell_type": "code",
   "execution_count": 13,
   "metadata": {},
   "outputs": [
    {
     "ename": "",
     "evalue": "",
     "output_type": "error",
     "traceback": [
      "\u001b[1;31mThe Kernel crashed while executing code in the the current cell or a previous cell. Please review the code in the cell(s) to identify a possible cause of the failure. Click <a href='https://aka.ms/vscodeJupyterKernelCrash'>here</a> for more info. View Jupyter <a href='command:jupyter.viewOutput'>log</a> for further details."
     ]
    },
    {
     "ename": "",
     "evalue": "",
     "output_type": "error",
     "traceback": [
      "\u001b[1;31mCanceled future for execute_request message before replies were done"
     ]
    }
   ],
   "source": [
    "# for some reason, this does not work; exhaust RAM and crash\n",
    "xr_file[\"accD\"][0, 0:3235893].data"
   ]
  },
  {
   "cell_type": "code",
   "execution_count": null,
   "metadata": {},
   "outputs": [],
   "source": []
  }
 ],
 "metadata": {
  "kernelspec": {
   "display_name": "Python 3",
   "language": "python",
   "name": "python3"
  },
  "language_info": {
   "codemirror_mode": {
    "name": "ipython",
    "version": 3
   },
   "file_extension": ".py",
   "mimetype": "text/x-python",
   "name": "python",
   "nbconvert_exporter": "python",
   "pygments_lexer": "ipython3",
   "version": "3.8.10"
  },
  "orig_nbformat": 4,
  "vscode": {
   "interpreter": {
    "hash": "31f2aee4e71d21fbe5cf8b01ff0e069b9275f58929596ceb00d14d90e3e16cd6"
   }
  }
 },
 "nbformat": 4,
 "nbformat_minor": 2
}
