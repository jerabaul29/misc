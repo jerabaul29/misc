{
 "cells": [
  {
   "cell_type": "code",
   "execution_count": 1,
   "metadata": {},
   "outputs": [],
   "source": [
    "import numpy as np\n",
    "\n",
    "import tensorflow\n",
    "from tensorflow import keras\n",
    "from tensorflow.keras import layers\n",
    "from scipy import interpolate\n",
    "from keras.models import load_model\n",
    "\n",
    "from icecream import ic\n",
    "\n",
    "import matplotlib.pyplot as plt\n",
    "\n",
    "ic.configureOutput(prefix=\"\", outputFunction=print)"
   ]
  },
  {
   "cell_type": "code",
   "execution_count": 2,
   "metadata": {},
   "outputs": [
    {
     "name": "stdout",
     "output_type": "stream",
     "text": [
      "keras.__version__: '2.11.0'\n",
      "tensorflow.__version__: '2.11.0'\n",
      "\n"
     ]
    }
   ],
   "source": [
    "ic(keras.__version__)\n",
    "ic(tensorflow.__version__)\n",
    "print(\"\")"
   ]
  },
  {
   "cell_type": "code",
   "execution_count": 3,
   "metadata": {},
   "outputs": [],
   "source": [
    "# generate synthetic data for a simple function: x**2, but with some large offsets\n",
    "# note: to really do some NN trainings and validation, should also ideally generate a \"validation\" set not seen during training to test\n",
    "# on unseen data, but this is not the point here\n",
    "\n",
    "x_offset = 497.5\n",
    "x_scaling = 15.0\n",
    "y_offset = -756.5\n",
    "y_scaling = 34.0\n",
    "\n",
    "n_points_train = int(1e4)\n",
    "n_points_val = int(1e3)\n",
    "\n",
    "x_train = np.random.normal(x_offset, x_scaling, (n_points_train))\n",
    "\n",
    "y_train = y_scaling * ((x_train - x_offset)**2) + y_offset\n",
    "\n",
    "x_train = x_train.squeeze()\n",
    "y_train = y_train.squeeze()"
   ]
  },
  {
   "cell_type": "code",
   "execution_count": 4,
   "metadata": {},
   "outputs": [
    {
     "data": {
      "image/png": "[encoded data removed]",
      "text/plain": [
       "<Figure size 432x288 with 1 Axes>"
      ]
     },
     "metadata": {
      "needs_background": "light"
     },
     "output_type": "display_data"
    }
   ],
   "source": [
    "# how the training data look like\n",
    "\n",
    "plt.figure()\n",
    "plt.scatter(x_train, y_train, color=\"k\", label=\"train\")\n",
    "plt.legend()\n",
    "plt.show()"
   ]
  },
  {
   "cell_type": "code",
   "execution_count": 5,
   "metadata": {},
   "outputs": [],
   "source": [
    "# normalization layers\n",
    "\n",
    "labels_inv_normalization_layer = layers.Normalization(invert=True, input_shape=[1,], axis=None)\n",
    "labels_inv_normalization_layer.adapt(y_train)\n",
    "\n",
    "predictors_normalization_layer = layers.Normalization(input_shape=[1,], axis=None)\n",
    "predictors_normalization_layer.adapt(x_train)"
   ]
  },
  {
   "cell_type": "code",
   "execution_count": 6,
   "metadata": {},
   "outputs": [
    {
     "name": "stdout",
     "output_type": "stream",
     "text": [
      "np.mean((y_train-y_mean)/y_std): -7.638334409421077e-18\n",
      "np.std((y_train-y_mean)/y_std): 1.0\n",
      "\n",
      "illustrate input normalization\n",
      "np.mean(predictors_normalization_layer(x_train)): -3.2735825e-06\n",
      "np.std(predictors_normalization_layer(x_train)): 1.0000001\n",
      "\n",
      "illustrate output normalization\n",
      "np.mean(y_train): 6895.0435291684325\n",
      "np.std(y_train): 10676.812760656223\n",
      "np.mean(labels_inv_normalization_layer(np.random.normal(0, 1, (1000,)))): 7312.0566\n",
      "np.std(labels_inv_normalization_layer(np.random.normal(0, 1, (1000,)))): 10583.883\n"
     ]
    },
    {
     "data": {
      "image/png": "[encoded data removed]",
      "text/plain": [
       "<Figure size 432x288 with 1 Axes>"
      ]
     },
     "metadata": {
      "needs_background": "light"
     },
     "output_type": "display_data"
    }
   ],
   "source": [
    "# illustrate the normalization layers\n",
    "# the input layers moves the input distribution to something close to N(0, 1)\n",
    "# the x_train -> mean 0, std 1\n",
    "# the output layer denormalization moves N(0, 1) to something close to the output distribution\n",
    "# mean 0, std 1 y -> true data mean, true data std\n",
    "\n",
    "y_mean = np.mean(y_train)\n",
    "y_std = np.std(y_train)\n",
    "\n",
    "ic(np.mean((y_train-y_mean)/y_std))\n",
    "ic(np.std((y_train-y_mean)/y_std))\n",
    "\n",
    "print(\"\")\n",
    "\n",
    "print(\"illustrate input normalization\")\n",
    "ic(np.mean(predictors_normalization_layer(x_train)))\n",
    "ic(np.std(predictors_normalization_layer(x_train)))\n",
    "\n",
    "print(\"\")\n",
    "\n",
    "print(\"illustrate output normalization\")\n",
    "ic(np.mean(y_train))\n",
    "ic(np.std(y_train))\n",
    "ic(np.mean(labels_inv_normalization_layer(np.random.normal(0, 1, (1000,)))))\n",
    "ic(np.std(labels_inv_normalization_layer(np.random.normal(0, 1, (1000,)))))\n",
    "\n",
    "# as seen by the internal layers of the ANN\n",
    "plt.figure()\n",
    "plt.scatter(predictors_normalization_layer(x_train), ((y_train-y_mean)/y_std), color=\"k\", label=\"train\")\n",
    "plt.legend()\n",
    "plt.show()\n"
   ]
  },
  {
   "cell_type": "code",
   "execution_count": 7,
   "metadata": {},
   "outputs": [
    {
     "name": "stdout",
     "output_type": "stream",
     "text": [
      "Model: \"model\"\n",
      "_________________________________________________________________\n",
      " Layer (type)                Output Shape              Param #   \n",
      "=================================================================\n",
      " input_1 (InputLayer)        [(None, 1)]               0         \n",
      "                                                                 \n",
      " normalization_1 (Normalizat  (None, 1)                3         \n",
      " ion)                                                            \n",
      "                                                                 \n",
      " dense (Dense)               (None, 80)                160       \n",
      "                                                                 \n",
      " dense_1 (Dense)             (None, 80)                6480      \n",
      "                                                                 \n",
      " dense_2 (Dense)             (None, 1)                 81        \n",
      "                                                                 \n",
      " normalization (Normalizatio  (None, 1)                3         \n",
      " n)                                                              \n",
      "                                                                 \n",
      "=================================================================\n",
      "Total params: 6,727\n",
      "Trainable params: 6,721\n",
      "Non-trainable params: 6\n",
      "_________________________________________________________________\n"
     ]
    }
   ],
   "source": [
    "# define a simple model for a network, including the normalization layers\n",
    "\n",
    "input_layer = keras.layers.Input(shape=(1, ))\n",
    "normalized_input = predictors_normalization_layer(input_layer)\n",
    "fully_connected_1 = keras.layers.Dense(80, activation=\"relu\")(normalized_input)\n",
    "fully_connected_2 = keras.layers.Dense(80, activation=\"relu\")(fully_connected_1)\n",
    "output = keras.layers.Dense(1)(fully_connected_2)\n",
    "denormalized_output = labels_inv_normalization_layer(output)\n",
    "\n",
    "# metaparameters\n",
    "learning_rate = 1e-1\n",
    "epochs = int(1e2)\n",
    "min_delta_stop = 1e-4\n",
    "patience_stop = 5\n",
    "\n",
    "# model\n",
    "keras_model = keras.Model(inputs=input_layer, outputs=denormalized_output)\n",
    "keras_model.compile(optimizer=keras.optimizers.Adagrad(learning_rate=learning_rate), loss=\"mean_absolute_error\")\n",
    "keras_model.summary()\n",
    "path_checkpoint = \"./residual_learning_checkpoint.tf\""
   ]
  },
  {
   "cell_type": "code",
   "execution_count": 8,
   "metadata": {},
   "outputs": [
    {
     "name": "stdout",
     "output_type": "stream",
     "text": [
      "Epoch 1/100\n",
      "282/282 [==============================] - 1s 2ms/step - loss: 1237.8193 - val_loss: 456.5352\n",
      "Epoch 2/100\n",
      "282/282 [==============================] - 0s 2ms/step - loss: 380.0497 - val_loss: 757.3504\n",
      "Epoch 3/100\n",
      "282/282 [==============================] - 0s 1ms/step - loss: 294.4295 - val_loss: 378.3331\n",
      "Epoch 4/100\n",
      "282/282 [==============================] - 0s 2ms/step - loss: 233.3911 - val_loss: 181.4246\n",
      "Epoch 5/100\n",
      "282/282 [==============================] - 0s 2ms/step - loss: 207.0316 - val_loss: 187.1668\n",
      "Epoch 6/100\n",
      "282/282 [==============================] - 0s 1ms/step - loss: 179.3828 - val_loss: 285.1971\n",
      "Epoch 7/100\n",
      "282/282 [==============================] - 0s 2ms/step - loss: 165.4398 - val_loss: 184.2970\n",
      "Epoch 8/100\n",
      "282/282 [==============================] - 0s 2ms/step - loss: 151.3034 - val_loss: 437.1474\n",
      "Epoch 9/100\n",
      "282/282 [==============================] - 0s 2ms/step - loss: 151.9650 - val_loss: 271.9273\n",
      "\n",
      "done!\n"
     ]
    }
   ],
   "source": [
    "# training config\n",
    "es_callback = keras.callbacks.EarlyStopping(monitor=\"val_loss\", min_delta=min_delta_stop, patience=patience_stop)\n",
    "\n",
    "model_ckpt_callback = keras.callbacks.ModelCheckpoint(\n",
    "    monitor=\"val_loss\",\n",
    "    filepath=path_checkpoint,\n",
    "    verbose=1,\n",
    "    save_weights_only=False,\n",
    "    save_best_only=True,\n",
    ")\n",
    "\n",
    "\n",
    "# perform learning\n",
    "history = keras_model.fit(\n",
    "    x=x_train,\n",
    "    y=y_train,\n",
    "    epochs=epochs,\n",
    "    validation_split=0.10,\n",
    "    callbacks=[es_callback,],\n",
    ")\n",
    "\n",
    "print()\n",
    "print(\"done!\")"
   ]
  },
  {
   "cell_type": "code",
   "execution_count": 12,
   "metadata": {},
   "outputs": [
    {
     "data": {
      "image/png": "[encoded data removed]",
      "text/plain": [
       "<Figure size 432x288 with 1 Axes>"
      ]
     },
     "metadata": {
      "needs_background": "light"
     },
     "output_type": "display_data"
    }
   ],
   "source": [
    "nn_prediction_training = np.array(keras_model(x_train)).squeeze()\n",
    "plt.figure()\n",
    "plt.scatter(x_train, y_train, color=\"k\", label=\"train\")\n",
    "plt.scatter(x_train, nn_prediction_training, color=\"r\", label=\"prediction\")\n",
    "plt.legend()\n",
    "plt.show()"
   ]
  },
  {
   "cell_type": "code",
   "execution_count": 13,
   "metadata": {},
   "outputs": [
    {
     "name": "stderr",
     "output_type": "stream",
     "text": [
      "WARNING:absl:Found untraced functions such as _update_step_xla while saving (showing 1 of 1). These functions will not be directly callable after loading.\n"
     ]
    },
    {
     "name": "stdout",
     "output_type": "stream",
     "text": [
      "INFO:tensorflow:Assets written to: ./saved_models/keras_model_1/assets\n"
     ]
    },
    {
     "name": "stderr",
     "output_type": "stream",
     "text": [
      "INFO:tensorflow:Assets written to: ./saved_models/keras_model_1/assets\n"
     ]
    }
   ],
   "source": [
    "# dump and reload\n",
    "keras_model.save(\"./saved_models/keras_model_1\")\n",
    "del keras_model\n",
    "keras_model = load_model(\"./saved_models/keras_model_1\")"
   ]
  },
  {
   "cell_type": "code",
   "execution_count": 14,
   "metadata": {},
   "outputs": [
    {
     "data": {
      "image/png": "[encoded data removed]",
      "text/plain": [
       "<Figure size 432x288 with 1 Axes>"
      ]
     },
     "metadata": {
      "needs_background": "light"
     },
     "output_type": "display_data"
    }
   ],
   "source": [
    "# we should get the exact same results, but now things do not work\n",
    "\n",
    "nn_prediction_training = np.array(keras_model(x_train)).squeeze()\n",
    "\n",
    "plt.figure()\n",
    "plt.scatter(x_train, y_train, color=\"k\")\n",
    "plt.scatter(x_train, nn_prediction_training, color=\"r\")\n",
    "plt.show()"
   ]
  },
  {
   "cell_type": "code",
   "execution_count": null,
   "metadata": {},
   "outputs": [],
   "source": []
  }
 ],
 "metadata": {
  "kernelspec": {
   "display_name": "Python 3",
   "language": "python",
   "name": "python3"
  },
  "language_info": {
   "codemirror_mode": {
    "name": "ipython",
    "version": 3
   },
   "file_extension": ".py",
   "mimetype": "text/x-python",
   "name": "python",
   "nbconvert_exporter": "python",
   "pygments_lexer": "ipython3",
   "version": "3.8.10 (default, Nov 14 2022, 12:59:47) \n[GCC 9.4.0]"
  },
  "orig_nbformat": 4,
  "vscode": {
   "interpreter": {
    "hash": "31f2aee4e71d21fbe5cf8b01ff0e069b9275f58929596ceb00d14d90e3e16cd6"
   }
  }
 },
 "nbformat": 4,
 "nbformat_minor": 2
}
